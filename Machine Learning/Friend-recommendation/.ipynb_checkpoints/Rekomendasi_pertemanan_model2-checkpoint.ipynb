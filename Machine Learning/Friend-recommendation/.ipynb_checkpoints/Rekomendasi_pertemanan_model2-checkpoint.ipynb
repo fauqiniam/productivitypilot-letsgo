{
 "cells": [
  {
   "cell_type": "code",
   "execution_count": 1,
   "id": "02a56f29",
   "metadata": {},
   "outputs": [],
   "source": [
    "import numpy as np \n",
    "import pandas as pd \n",
    "from ast import literal_eval\n",
    "import warnings\n",
    "warnings.filterwarnings('ignore')\n",
    "import os\n",
    "import pickle\n",
    "from sklearn.feature_extraction.text import TfidfVectorizer, CountVectorizer\n",
    "from sklearn.metrics.pairwise import linear_kernel\n",
    "from sklearn.metrics.pairwise import cosine_similarity"
   ]
  },
  {
   "cell_type": "code",
   "execution_count": 5,
   "id": "43503616",
   "metadata": {},
   "outputs": [],
   "source": [
    "df = pd.read_csv('./Data generated.csv')"
   ]
  },
  {
   "cell_type": "code",
   "execution_count": 6,
   "id": "38af3425",
   "metadata": {},
   "outputs": [
    {
     "data": {
      "text/html": [
       "<div>\n",
       "<style scoped>\n",
       "    .dataframe tbody tr th:only-of-type {\n",
       "        vertical-align: middle;\n",
       "    }\n",
       "\n",
       "    .dataframe tbody tr th {\n",
       "        vertical-align: top;\n",
       "    }\n",
       "\n",
       "    .dataframe thead th {\n",
       "        text-align: right;\n",
       "    }\n",
       "</style>\n",
       "<table border=\"1\" class=\"dataframe\">\n",
       "  <thead>\n",
       "    <tr style=\"text-align: right;\">\n",
       "      <th></th>\n",
       "      <th>userid</th>\n",
       "      <th>age</th>\n",
       "      <th>gender</th>\n",
       "      <th>domisili</th>\n",
       "      <th>pekerjaan</th>\n",
       "      <th>instansi</th>\n",
       "      <th>hobi</th>\n",
       "    </tr>\n",
       "  </thead>\n",
       "  <tbody>\n",
       "    <tr>\n",
       "      <th>0</th>\n",
       "      <td>61377</td>\n",
       "      <td>18</td>\n",
       "      <td>female</td>\n",
       "      <td>Kota Magelang</td>\n",
       "      <td>Content writer</td>\n",
       "      <td>Universitas Gunadarma</td>\n",
       "      <td>Programming</td>\n",
       "    </tr>\n",
       "    <tr>\n",
       "      <th>1</th>\n",
       "      <td>16429</td>\n",
       "      <td>25</td>\n",
       "      <td>male</td>\n",
       "      <td>Kabupaten Bangkalan</td>\n",
       "      <td>Data analyst</td>\n",
       "      <td>Universitas Andalas (UNAND)</td>\n",
       "      <td>Menonton</td>\n",
       "    </tr>\n",
       "    <tr>\n",
       "      <th>2</th>\n",
       "      <td>27812</td>\n",
       "      <td>54</td>\n",
       "      <td>male</td>\n",
       "      <td>Kota Bogor</td>\n",
       "      <td>Blogger</td>\n",
       "      <td>Universitas Negeri Malang (UM)</td>\n",
       "      <td>Menonton</td>\n",
       "    </tr>\n",
       "    <tr>\n",
       "      <th>3</th>\n",
       "      <td>30786</td>\n",
       "      <td>39</td>\n",
       "      <td>female</td>\n",
       "      <td>Kabupaten Situbondo</td>\n",
       "      <td>Web developer</td>\n",
       "      <td>Universitas Udayana (UNUD)</td>\n",
       "      <td>Mendengarkan musik</td>\n",
       "    </tr>\n",
       "    <tr>\n",
       "      <th>4</th>\n",
       "      <td>76660</td>\n",
       "      <td>45</td>\n",
       "      <td>male</td>\n",
       "      <td>Kabupaten Tulungagung</td>\n",
       "      <td>Data analyst</td>\n",
       "      <td>SMA A</td>\n",
       "      <td>Olahraga</td>\n",
       "    </tr>\n",
       "  </tbody>\n",
       "</table>\n",
       "</div>"
      ],
      "text/plain": [
       "   userid  age  gender               domisili       pekerjaan  \\\n",
       "0   61377   18  female          Kota Magelang  Content writer   \n",
       "1   16429   25    male    Kabupaten Bangkalan    Data analyst   \n",
       "2   27812   54    male             Kota Bogor         Blogger   \n",
       "3   30786   39  female    Kabupaten Situbondo   Web developer   \n",
       "4   76660   45    male  Kabupaten Tulungagung    Data analyst   \n",
       "\n",
       "                         instansi                hobi  \n",
       "0           Universitas Gunadarma         Programming  \n",
       "1     Universitas Andalas (UNAND)            Menonton  \n",
       "2  Universitas Negeri Malang (UM)            Menonton  \n",
       "3      Universitas Udayana (UNUD)  Mendengarkan musik  \n",
       "4                           SMA A            Olahraga  "
      ]
     },
     "execution_count": 6,
     "metadata": {},
     "output_type": "execute_result"
    }
   ],
   "source": [
    "df.head()"
   ]
  },
  {
   "cell_type": "code",
   "execution_count": 7,
   "id": "506b2be7",
   "metadata": {},
   "outputs": [],
   "source": [
    "# Convert Id sebagai Integer\n",
    "df['userid'] = df['userid'].astype('int')"
   ]
  },
  {
   "cell_type": "code",
   "execution_count": 8,
   "id": "0d7ccd8d",
   "metadata": {},
   "outputs": [],
   "source": [
    "df['overall'] = df['domisili'] + ' ' + df['pekerjaan'] + ' ' +df['instansi'] + ' ' + df['hobi']#+ fd['kalori']# Combining columns overview and tagline"
   ]
  },
  {
   "cell_type": "code",
   "execution_count": 11,
   "id": "e7237ab2",
   "metadata": {},
   "outputs": [
    {
     "data": {
      "text/plain": [
       "CountVectorizer(min_df=0, ngram_range=(1, 2))"
      ]
     },
     "execution_count": 11,
     "metadata": {},
     "output_type": "execute_result"
    }
   ],
   "source": [
    "# Convert dokumen text ke matriks (baris = dokumen, kolom=\"\")\n",
    "count = CountVectorizer(analyzer = 'word', ngram_range = (1, 2), min_df = 0, \n",
    "                        # stop_words = 'english'\n",
    "                        )\n",
    "count_matrix = count.fit_transform(df['overall'])"
   ]
  },
  {
   "cell_type": "code",
   "execution_count": 22,
   "id": "57768095",
   "metadata": {},
   "outputs": [],
   "source": [
    "# Converts a collection of raw documents to a matrix of TF-IDF features\n",
    "tf = TfidfVectorizer(analyzer='word', ngram_range=(1, 2), min_df = 0, stop_words='english')\n",
    "tfidf_matrix = tf.fit_transform(df['overall'])"
   ]
  },
  {
   "cell_type": "code",
   "execution_count": 16,
   "id": "d8a59ad9",
   "metadata": {},
   "outputs": [],
   "source": [
    "df = df.reset_index(drop=True)\n",
    "titles = df['userid']  # Defining a new variable title\n",
    "indices = pd.Series(df.index, index = df['userid'])  # Defining a new dataframe indices"
   ]
  },
  {
   "cell_type": "code",
   "execution_count": 17,
   "id": "d9472a87",
   "metadata": {},
   "outputs": [],
   "source": [
    "# Defining a function that returns 30 most similar movied bases on the cosine \n",
    "# similarity score\n",
    "def get_recommendations(title):\n",
    "    idx = indices[title]  # Defining a variable with indices\n",
    "    sim_scores = list(enumerate(cosine_sim[idx]))\n",
    "    sim_scores = sorted(sim_scores, key = lambda x: x[1], reverse = True)\n",
    "    sim_scores = sim_scores[1: 31]  # Taking the 30 most similar movies\n",
    "    movie_indices = [i[0] for i in sim_scores]\n",
    "    return titles.iloc[movie_indices]  # returns the title based on movie indices"
   ]
  },
  {
   "cell_type": "code",
   "execution_count": 23,
   "id": "fa0a47fa",
   "metadata": {},
   "outputs": [],
   "source": [
    "# Compute cosine similarity between samples in X and Y.\n",
    "cosine_sim = cosine_similarity(tfidf_matrix, tfidf_matrix)"
   ]
  },
  {
   "cell_type": "code",
   "execution_count": 24,
   "id": "41861998",
   "metadata": {},
   "outputs": [
    {
     "data": {
      "text/plain": [
       "875    30920\n",
       "992    13567\n",
       "29     37574\n",
       "503    69712\n",
       "717    70204\n",
       "465    34405\n",
       "923    50456\n",
       "319    68263\n",
       "66     27369\n",
       "494    95175\n",
       "448    14631\n",
       "129    65223\n",
       "523    63762\n",
       "245    57163\n",
       "697    81057\n",
       "69     67267\n",
       "350    32933\n",
       "989    45998\n",
       "343    85416\n",
       "623    38110\n",
       "374    14156\n",
       "690    65624\n",
       "416    33595\n",
       "702    61736\n",
       "643    28955\n",
       "751    64073\n",
       "545    19937\n",
       "870    71498\n",
       "783    76614\n",
       "597    42023\n",
       "Name: userid, dtype: int32"
      ]
     },
     "execution_count": 24,
     "metadata": {},
     "output_type": "execute_result"
    }
   ],
   "source": [
    "get_recommendations(61377)"
   ]
  },
  {
   "cell_type": "code",
   "execution_count": null,
   "id": "71ec2b46",
   "metadata": {},
   "outputs": [],
   "source": [
    "875    30920\n",
    "29     37574\n",
    "503    69712\n",
    "717    70204\n",
    "319    68263\n",
    "465    34405\n",
    "923    50456\n",
    "129    65223\n",
    "343    85416\n",
    "416    33595\n",
    "690    65624\n",
    "702    61736\n",
    "775     7891\n",
    "958    52359\n",
    "989    45998\n",
    "69     67267\n",
    "523    63762\n",
    "992    13567\n",
    "286    95853\n",
    "333    67719\n",
    "374    14156\n",
    "643    28955\n",
    "946    96792\n",
    "350    32933\n",
    "368      114\n",
    "400    90882\n",
    "545    19937\n",
    "597    42023\n",
    "623    38110\n",
    "735    78172\n",
    "Name: userid, dtype: int32"
   ]
  },
  {
   "cell_type": "code",
   "execution_count": null,
   "id": "67b8f9e3",
   "metadata": {},
   "outputs": [],
   "source": []
  },
  {
   "cell_type": "code",
   "execution_count": null,
   "id": "8e350886",
   "metadata": {},
   "outputs": [],
   "source": []
  },
  {
   "cell_type": "code",
   "execution_count": null,
   "id": "bbc1bf32",
   "metadata": {},
   "outputs": [],
   "source": []
  },
  {
   "cell_type": "code",
   "execution_count": null,
   "id": "b3faaffa",
   "metadata": {},
   "outputs": [],
   "source": []
  },
  {
   "cell_type": "code",
   "execution_count": null,
   "id": "d9c5abc4",
   "metadata": {},
   "outputs": [],
   "source": []
  }
 ],
 "metadata": {
  "kernelspec": {
   "display_name": "Python 3 (ipykernel)",
   "language": "python",
   "name": "python3"
  },
  "language_info": {
   "codemirror_mode": {
    "name": "ipython",
    "version": 3
   },
   "file_extension": ".py",
   "mimetype": "text/x-python",
   "name": "python",
   "nbconvert_exporter": "python",
   "pygments_lexer": "ipython3",
   "version": "3.9.13"
  }
 },
 "nbformat": 4,
 "nbformat_minor": 5
}

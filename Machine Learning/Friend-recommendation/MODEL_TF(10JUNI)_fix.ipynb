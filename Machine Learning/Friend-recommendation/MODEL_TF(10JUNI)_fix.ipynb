{
  "cells": [
    {
      "cell_type": "code",
      "source": [
        "#import tensorflow.compat.v1 as tf\n",
        "#import pandas as pd\n",
        "#from sklearn.preprocessing import OneHotEncoder\n",
        "\n",
        "#def build_recommendation_model():\n",
        "    # Define the TensorFlow graph\n",
        "    #graph = tf.Graph()\n",
        "\n",
        "    #with graph.as_default():\n",
        "        # Define the placeholders for input data\n",
        "        #user_placeholder = tf.compat.v1.placeholder(tf.int32, shape=[])\n",
        "        #data_placeholder = tf.compat.v1.placeholder(tf.float32, shape=[None, data_encoded.shape[1]])\n",
        "\n",
        "        # Split the data into user preferences and other user data\n",
        "        #user_preferences, other_users_data = tf.split(data_placeholder, [1, -1], axis=0)\n",
        "\n",
        "        # Calculate the similarity between the user and other users based on preferences\n",
        "        #similarity = tf.reduce_sum(tf.cast(tf.equal(user_preferences, other_users_data), tf.float32), axis=1)\n",
        "\n",
        "        # Find similar users based on the maximum similarity\n",
        "        #similar_users = tf.where(tf.not_equal(similarity, 0))[:, 0]\n",
        "\n",
        "        # Create a TensorFlow session\n",
        "        #session = tf.compat.v1.Session()\n",
        "\n",
        "        # Function to recommend friends\n",
        "        #def recommend_friends(user):\n",
        "            # Define the variables\n",
        "            #similar_users = []\n",
        "            #similar_instansi = []\n",
        "            #similar_pekerjaan = []\n",
        "            #similar_domisili = []\n",
        "            #similar_hobi = []\n",
        "            #userPreferences = {}\n",
        "\n",
        "            # Input values to userPreferences according to the user that matched with userid in data\n",
        "            #userPreferences['instansi'] = data[data['userid'] == user]['instansi'].values[0]\n",
        "            #userPreferences['pekerjaan'] = data[data['userid'] == user]['pekerjaan'].values[0]\n",
        "            #userPreferences['domisili'] = data[data['userid'] == user]['domisili'].values[0]\n",
        "            #userPreferences['hobi'] = data[data['userid'] == user]['hobi'].values[0]\n",
        "\n",
        "            # Iterate through data index 0 up to the length of data and find similarities between user and others\n",
        "            #for i in range(len(data)):\n",
        "                #if (data['userid'][i] != user) and (\n",
        "                        #data['instansi'][i] == userPreferences['instansi'] or\n",
        "                        #data['pekerjaan'][i] == userPreferences['pekerjaan'] or\n",
        "                        #data['domisili'][i] == userPreferences['domisili'] or\n",
        "                        #data['hobi'][i] == userPreferences['hobi']):\n",
        "                    #similar_users.append(data['userid'][i])\n",
        "\n",
        "                    #if data['userid'][i] != user and data['instansi'][i] == userPreferences['instansi']:\n",
        "                        #similar_instansi.append(data['userid'][i])\n",
        "                    #if data['userid'][i] != user and data['pekerjaan'][i] == userPreferences['pekerjaan']:\n",
        "                        #similar_pekerjaan.append(data['userid'][i])\n",
        "                    #if data['userid'][i] != user and data['domisili'][i] == userPreferences['domisili']:\n",
        "                        #similar_domisili.append(data['userid'][i])\n",
        "                    #if data['userid'][i] != user and data['hobi'][i] == userPreferences['hobi']:\n",
        "                        #similar_hobi.append(data['userid'][i])\n",
        "\n",
        "            # Print function output\n",
        "            #print(f\"{user} : {userPreferences}\")\n",
        "            #print(f\"Friends Recommendation for {user} : {similar_users}\")\n",
        "            #print(f\"Same Agency/Institute with {user} : {similar_instansi}\")\n",
        "            #print(f\"Same occupation with {user} : {similar_pekerjaan}\")\n",
        "            #print(f\"Same area with {user} : {similar_domisili}\")\n",
        "            #print(f\"Same hobby with {user} : {similar_hobi}\")\n",
        "\n",
        "    #return recommend_friends\n",
        "\n",
        "# Load the data\n",
        "#data = pd.read_csv('/content/Data generated.csv')  # Replace 'your_data.csv' with the path to your data file\n",
        "\n",
        "# Encode categorical features using one-hot encoding\n",
        "#encoder = OneHotEncoder(sparse=False)\n",
        "#data_encoded = pd.get_dummies(data, columns=['gender', 'instansi', 'pekerjaan', 'domisili', 'hobi'])\n",
        "\n",
        "# Build the recommendation model\n",
        "#recommend_friends_model = build_recommendation_model()\n",
        "\n",
        "\n"
      ],
      "metadata": {
        "id": "6l-rDK_hSABP"
      },
      "execution_count": 93,
      "outputs": []
    },
    {
      "cell_type": "code",
      "source": [
        "# Example usage:\n",
        "#user_id = 5492\n",
        "#output = recommend_friends_model(user_id)"
      ],
      "metadata": {
        "colab": {
          "base_uri": "https://localhost:8080/"
        },
        "id": "0rEDl_zrVcW4",
        "outputId": "92dd649f-342c-46d8-b800-8dabb772737f"
      },
      "execution_count": 94,
      "outputs": [
        {
          "output_type": "stream",
          "name": "stdout",
          "text": [
            "5492 : {'instansi': 'Universitas Andalas (UNAND)', 'pekerjaan': 'Infuencer', 'domisili': 'Kota Pekalongan', 'hobi': 'Makan'}\n",
            "Friends Recommendation for 5492 : [16429, 10476, 24779, 66464, 54602, 87577, 73591, 19970, 84635, 26560, 34714, 33127, 67632, 69667, 92130, 84550, 28136, 87333, 24353, 39323, 27406, 13654, 24532, 52992, 61294, 86861, 60501, 46514, 68348, 41482, 65634, 85759, 86361, 95022, 74515, 67256, 29807, 37167, 27699, 7159, 1054, 45688, 40985, 25298, 95853, 643, 47498, 64416, 4269, 55220, 33905, 11790, 47155, 89491, 43634, 69792, 26635, 27760, 97861, 90882, 66304, 4191, 79777, 59882, 89744, 53884, 79144, 98366, 66822, 57, 80417, 95175, 8643, 69712, 48709, 12416, 47364, 5370, 10516, 39892, 47259, 77842, 53660, 45373, 42023, 92700, 55184, 73958, 61831, 3266, 67679, 3202, 31951, 5698, 77321, 89517, 70204, 32097, 16133, 12891, 15754, 65487, 21812, 5196, 19698, 76614, 2094, 73344, 97720, 62563, 15510, 502, 8132, 48803, 18466, 19474, 74919, 58399, 49603, 43588, 65931, 51507, 7436, 21597, 27797, 80796, 64425, 29737, 61054, 79330]\n",
            "Same Agency/Institute with 5492 : [16429, 84635, 26560, 33127, 92130, 85759, 95022, 37167, 1054, 40985, 25298, 33905, 11790, 79777, 79144, 66822, 12416, 47364, 39892, 16133, 62563, 80796]\n",
            "Same occupation with 5492 : [10476, 73591, 19970, 69667, 84550, 24353, 27406, 13654, 24532, 52992, 86861, 60501, 41482, 65634, 86361, 74515, 67256, 29807, 7159, 643, 47498, 64416, 47155, 89491, 43634, 69792, 97861, 66304, 98366, 95175, 8643, 5370, 47259, 45373, 92700, 73958, 61831, 67679, 3202, 5698, 77321, 12891, 21812, 19698, 73344, 15510, 8132, 48803, 58399, 49603, 43588, 65931, 51507, 21597, 27797, 64425, 29737, 61054]\n",
            "Same area with 5492 : [54602, 19970, 34714, 87333, 95853, 59882, 89744, 48709, 15754]\n",
            "Same hobby with 5492 : [24779, 66464, 87577, 33127, 67632, 28136, 39323, 61294, 86861, 46514, 68348, 27699, 45688, 4269, 55220, 26635, 27760, 90882, 4191, 53884, 66822, 57, 80417, 69712, 10516, 77842, 53660, 42023, 55184, 61831, 3266, 31951, 5698, 89517, 70204, 32097, 65487, 5196, 76614, 2094, 97720, 502, 18466, 19474, 74919, 7436, 27797, 79330]\n"
          ]
        }
      ]
    },
    {
      "cell_type": "code",
      "source": [
        "# Example usage:\n",
        "#user_id = 8931\n",
        "#output = recommend_friends_model(user_id)"
      ],
      "metadata": {
        "colab": {
          "base_uri": "https://localhost:8080/"
        },
        "id": "L0GKZP6XSGIi",
        "outputId": "13c9d3bf-25c7-4c61-c77f-41dbb850d630"
      },
      "execution_count": 95,
      "outputs": [
        {
          "output_type": "stream",
          "name": "stdout",
          "text": [
            "8931 : {'instansi': 'Universitas Sumatera Utara (USU)', 'pekerjaan': 'Content writer', 'domisili': 'Kabupaten Ciamis', 'hobi': 'Olahraga'}\n",
            "Friends Recommendation for 8931 : [61377, 76660, 39535, 32088, 66464, 39505, 37574, 58033, 87577, 73591, 55384, 61888, 67267, 31180, 33738, 28336, 90961, 82543, 86604, 68193, 73320, 48435, 30411, 65223, 82701, 17337, 13654, 95728, 17158, 27392, 13543, 19516, 85048, 64644, 16561, 95758, 93823, 38553, 16594, 52582, 45688, 95853, 15389, 47498, 38667, 57695, 17217, 68263, 55683, 67719, 85416, 58651, 60259, 114, 14156, 12625, 78925, 40625, 23543, 90882, 4562, 33595, 90668, 75534, 34132, 14631, 34405, 92019, 61745, 31570, 51378, 76963, 80417, 8643, 73865, 69712, 89363, 63762, 11119, 47364, 92622, 19937, 19758, 75163, 70927, 1502, 71898, 21852, 42023, 4136, 38110, 6688, 71583, 28955, 31627, 72507, 56547, 3202, 76179, 92703, 59019, 65624, 91413, 61736, 14696, 12243, 70204, 49503, 10727, 51613, 78172, 82161, 64073, 29391, 77029, 93952, 80139, 71287, 7891, 9179, 76614, 75999, 20950, 29904, 71548, 17434, 25454, 71498, 36645, 30920, 69359, 19853, 66233, 65201, 49755, 47542, 14842, 76194, 91756, 95364, 50456, 51507, 96792, 45710, 74762, 52359, 33374, 82398, 45998, 61054]\n",
            "Same Agency/Institute with 8931 : [32088, 87577, 55384, 31180, 33738, 73320, 65223, 82701, 95728, 27392, 64644, 16561, 16594, 95853, 47498, 17217, 12625, 14631, 92019, 61745, 51378, 80417, 11119, 21852, 31627, 59019, 12243, 75999, 29904, 36645, 65201, 49755, 47542, 74762]\n",
            "Same occupation with 8931 : [61377, 66464, 39505, 37574, 61888, 67267, 90961, 82543, 68193, 48435, 30411, 65223, 19516, 45688, 95853, 15389, 57695, 68263, 55683, 67719, 85416, 58651, 114, 14156, 90882, 4562, 33595, 34132, 34405, 92019, 51378, 69712, 89363, 63762, 19937, 75163, 70927, 42023, 38110, 6688, 28955, 76179, 65624, 61736, 14696, 70204, 49503, 10727, 51613, 78172, 64073, 29391, 80139, 7891, 76614, 20950, 71498, 30920, 69359, 76194, 50456, 96792, 45710, 52359, 33374, 45998]\n",
            "Same area with 8931 : [39535, 67267, 17337, 93823, 9179, 66233, 76194, 95364]\n",
            "Same hobby with 8931 : [76660, 58033, 73591, 28336, 86604, 17337, 13654, 17158, 13543, 85048, 95758, 93823, 38553, 52582, 38667, 60259, 78925, 40625, 23543, 33595, 90668, 75534, 31570, 76963, 8643, 73865, 47364, 92622, 19758, 75163, 1502, 71898, 4136, 71583, 72507, 56547, 3202, 92703, 91413, 61736, 14696, 82161, 77029, 93952, 71287, 71548, 17434, 25454, 36645, 19853, 14842, 91756, 51507, 82398, 45998, 61054]\n"
          ]
        }
      ]
    },
    {
      "cell_type": "code",
      "source": [
        "#dom1 = data[data['userid'] == 5492]['domisili'].values[0]\n",
        "# data['domisili'][data['domisili']== dom1].value_counts()\n",
        "#data['userid'][data['domisili']== dom1]"
      ],
      "metadata": {
        "colab": {
          "base_uri": "https://localhost:8080/"
        },
        "id": "jR-dp3l9lusO",
        "outputId": "98f3931f-cb8a-42cb-b1bc-ccd661503027"
      },
      "execution_count": 125,
      "outputs": [
        {
          "output_type": "execute_result",
          "data": {
            "text/plain": [
              "12      5492\n",
              "28     54602\n",
              "41     19970\n",
              "68     34714\n",
              "102    87333\n",
              "286    95853\n",
              "425    59882\n",
              "436    89744\n",
              "507    48709\n",
              "743    15754\n",
              "Name: userid, dtype: int64"
            ]
          },
          "metadata": {},
          "execution_count": 125
        }
      ]
    },
    {
      "cell_type": "markdown",
      "source": [
        "# MODEL TF"
      ],
      "metadata": {
        "id": "Kt9ErhvOcKUU"
      }
    },
    {
      "cell_type": "code",
      "source": [
        "import tensorflow.compat.v1 as tf\n",
        "import tensorflow.lite as tflite\n",
        "import numpy as np\n",
        "import pandas as pd\n",
        "from sklearn.preprocessing import OneHotEncoder\n",
        "\n",
        "def build_recommendation_model():\n",
        "    # Define the TensorFlow graph\n",
        "    graph = tf.Graph()\n",
        "\n",
        "    with graph.as_default():\n",
        "        # Define the input tensors as constant placeholders\n",
        "        user_placeholder = tf.compat.v1.placeholder(tf.int32, shape=[])\n",
        "        data_placeholder = tf.compat.v1.placeholder(tf.float32, shape=[None, data_encoded.shape[1]])\n",
        "\n",
        "        # Split the data into user preferences and other user data\n",
        "        user_preferences, other_users_data = tf.split(data_placeholder, [1, -1], axis=0)\n",
        "\n",
        "        # Calculate the similarity between the user and other users based on preferences\n",
        "        similarity = tf.reduce_sum(tf.cast(tf.equal(user_preferences, other_users_data), tf.float32), axis=1)\n",
        "\n",
        "        # Find similar users based on the maximum similarity\n",
        "        similar_users = tf.where(tf.not_equal(similarity, 0))[:, 0]\n",
        "\n",
        "        # Function to recommend friends\n",
        "        @tf.function\n",
        "        def recommend_friends(user):\n",
        "            # Define the variables\n",
        "            similar_users_list = []\n",
        "            similar_instansi = []\n",
        "            similar_pekerjaan = []\n",
        "            similar_domisili = []\n",
        "            similar_hobi = []\n",
        "            userPreferences = {}\n",
        "\n",
        "            # Check if the user ID exists in the dataset\n",
        "            if user in data['userid'].values:\n",
        "                # Input values to userPreferences according to the user that matched with userid in data\n",
        "                userPreferences['instansi'] = data[data['userid'] == user]['instansi'].values[0]\n",
        "                userPreferences['pekerjaan'] = data[data['userid'] == user]['pekerjaan'].values[0]\n",
        "                userPreferences['domisili'] = data[data['userid'] == user]['domisili'].values[0]\n",
        "                userPreferences['hobi'] = data[data['userid'] == user]['hobi'].values[0]\n",
        "\n",
        "                print(f\"Found user ID {user} in the dataset.\")\n",
        "                print(f\"User preferences: {userPreferences}\")\n",
        "\n",
        "                # Iterate through data index 0 up to the length of data and find similarities between user and others\n",
        "                for i in range(len(data)):\n",
        "                    if (data['userid'][i] != user) and (\n",
        "                            data['instansi'][i] == userPreferences['instansi'] or\n",
        "                            data['pekerjaan'][i] == userPreferences['pekerjaan'] or\n",
        "                            data['domisili'][i] == userPreferences['domisili'] or\n",
        "                            data['hobi'][i] == userPreferences['hobi']):\n",
        "                        similar_users_list.append(data['userid'][i])\n",
        "\n",
        "                        if data['userid'][i] != user and data['instansi'][i] == userPreferences['instansi']:\n",
        "                            similar_instansi.append(data['userid'][i])\n",
        "                        if data['userid'][i] != user and data['pekerjaan'][i] == userPreferences['pekerjaan']:\n",
        "                            similar_pekerjaan.append(data['userid'][i])\n",
        "                        if data['userid'][i] != user and data['domisili'][i] == userPreferences['domisili']:\n",
        "                            similar_domisili.append(data['userid'][i])\n",
        "                        if data['userid'][i] != user and data['hobi'][i] == userPreferences['hobi']:\n",
        "                            similar_hobi.append(data['userid'][i])\n",
        "\n",
        "                print(f\"Friends of {user} : {similar_users_list}\")\n",
        "                print(f\"Same institution with {user} : {similar_instansi}\")\n",
        "                print(f\"Same occupation with {user} : {similar_pekerjaan}\")\n",
        "                print(f\"Same area with {user} : {similar_domisili}\")\n",
        "                print(f\"Same hobby with {user} : {similar_hobi}\")\n",
        "            else:\n",
        "                print(f\"User ID {user} does not exist in the dataset.\")\n",
        "\n",
        "            return similar_users_list\n",
        "\n",
        "        return graph, recommend_friends, user_placeholder, data_placeholder\n",
        "\n",
        "# Load the data\n",
        "data = pd.read_csv('/content/Data generated.csv')  # Replace 'your_data.csv' with the path to your data file\n",
        "\n",
        "# Encode categorical features using one-hot encoding\n",
        "encoder = OneHotEncoder(sparse=False)\n",
        "data_encoded = pd.get_dummies(data, columns=['gender', 'instansi', 'pekerjaan', 'domisili', 'hobi'])\n",
        "\n",
        "# Build the recommendation model\n",
        "recommend_friends_model = build_recommendation_model()\n"
      ],
      "metadata": {
        "id": "IG8eU7sKed2X"
      },
      "execution_count": 150,
      "outputs": []
    },
    {
      "cell_type": "code",
      "source": [
        "# Example usage:\n",
        "user_id = 5492\n",
        "output = recommend_friends_model[1](user_id)"
      ],
      "metadata": {
        "colab": {
          "base_uri": "https://localhost:8080/"
        },
        "id": "nOe3gwU-el5_",
        "outputId": "05e2d99c-e21b-498f-9632-99b8c371ee77"
      },
      "execution_count": 151,
      "outputs": [
        {
          "output_type": "stream",
          "name": "stdout",
          "text": [
            "Found user ID 5492 in the dataset.\n",
            "User preferences: {'instansi': 'Universitas Andalas (UNAND)', 'pekerjaan': 'Infuencer', 'domisili': 'Kota Pekalongan', 'hobi': 'Makan'}\n",
            "Friends of 5492 : [16429, 10476, 24779, 66464, 54602, 87577, 73591, 19970, 84635, 26560, 34714, 33127, 67632, 69667, 92130, 84550, 28136, 87333, 24353, 39323, 27406, 13654, 24532, 52992, 61294, 86861, 60501, 46514, 68348, 41482, 65634, 85759, 86361, 95022, 74515, 67256, 29807, 37167, 27699, 7159, 1054, 45688, 40985, 25298, 95853, 643, 47498, 64416, 4269, 55220, 33905, 11790, 47155, 89491, 43634, 69792, 26635, 27760, 97861, 90882, 66304, 4191, 79777, 59882, 89744, 53884, 79144, 98366, 66822, 57, 80417, 95175, 8643, 69712, 48709, 12416, 47364, 5370, 10516, 39892, 47259, 77842, 53660, 45373, 42023, 92700, 55184, 73958, 61831, 3266, 67679, 3202, 31951, 5698, 77321, 89517, 70204, 32097, 16133, 12891, 15754, 65487, 21812, 5196, 19698, 76614, 2094, 73344, 97720, 62563, 15510, 502, 8132, 48803, 18466, 19474, 74919, 58399, 49603, 43588, 65931, 51507, 7436, 21597, 27797, 80796, 64425, 29737, 61054, 79330]\n",
            "Same institution with 5492 : [16429, 84635, 26560, 33127, 92130, 85759, 95022, 37167, 1054, 40985, 25298, 33905, 11790, 79777, 79144, 66822, 12416, 47364, 39892, 16133, 62563, 80796]\n",
            "Same occupation with 5492 : [10476, 73591, 19970, 69667, 84550, 24353, 27406, 13654, 24532, 52992, 86861, 60501, 41482, 65634, 86361, 74515, 67256, 29807, 7159, 643, 47498, 64416, 47155, 89491, 43634, 69792, 97861, 66304, 98366, 95175, 8643, 5370, 47259, 45373, 92700, 73958, 61831, 67679, 3202, 5698, 77321, 12891, 21812, 19698, 73344, 15510, 8132, 48803, 58399, 49603, 43588, 65931, 51507, 21597, 27797, 64425, 29737, 61054]\n",
            "Same area with 5492 : [54602, 19970, 34714, 87333, 95853, 59882, 89744, 48709, 15754]\n",
            "Same hobby with 5492 : [24779, 66464, 87577, 33127, 67632, 28136, 39323, 61294, 86861, 46514, 68348, 27699, 45688, 4269, 55220, 26635, 27760, 90882, 4191, 53884, 66822, 57, 80417, 69712, 10516, 77842, 53660, 42023, 55184, 61831, 3266, 31951, 5698, 89517, 70204, 32097, 65487, 5196, 76614, 2094, 97720, 502, 18466, 19474, 74919, 7436, 27797, 79330]\n"
          ]
        }
      ]
    },
    {
      "cell_type": "code",
      "source": [
        "# Example usage:\n",
        "user_id = 8931\n",
        "output = recommend_friends_model[1](user_id)"
      ],
      "metadata": {
        "colab": {
          "base_uri": "https://localhost:8080/"
        },
        "id": "IgfTmRCMu4FP",
        "outputId": "74504565-c49a-47d7-e13b-fd2a4bf88e81"
      },
      "execution_count": 154,
      "outputs": [
        {
          "output_type": "stream",
          "name": "stdout",
          "text": [
            "Found user ID 8931 in the dataset.\n",
            "User preferences: {'instansi': 'Universitas Sumatera Utara (USU)', 'pekerjaan': 'Content writer', 'domisili': 'Kabupaten Ciamis', 'hobi': 'Olahraga'}\n",
            "Friends of 8931 : [61377, 76660, 39535, 32088, 66464, 39505, 37574, 58033, 87577, 73591, 55384, 61888, 67267, 31180, 33738, 28336, 90961, 82543, 86604, 68193, 73320, 48435, 30411, 65223, 82701, 17337, 13654, 95728, 17158, 27392, 13543, 19516, 85048, 64644, 16561, 95758, 93823, 38553, 16594, 52582, 45688, 95853, 15389, 47498, 38667, 57695, 17217, 68263, 55683, 67719, 85416, 58651, 60259, 114, 14156, 12625, 78925, 40625, 23543, 90882, 4562, 33595, 90668, 75534, 34132, 14631, 34405, 92019, 61745, 31570, 51378, 76963, 80417, 8643, 73865, 69712, 89363, 63762, 11119, 47364, 92622, 19937, 19758, 75163, 70927, 1502, 71898, 21852, 42023, 4136, 38110, 6688, 71583, 28955, 31627, 72507, 56547, 3202, 76179, 92703, 59019, 65624, 91413, 61736, 14696, 12243, 70204, 49503, 10727, 51613, 78172, 82161, 64073, 29391, 77029, 93952, 80139, 71287, 7891, 9179, 76614, 75999, 20950, 29904, 71548, 17434, 25454, 71498, 36645, 30920, 69359, 19853, 66233, 65201, 49755, 47542, 14842, 76194, 91756, 95364, 50456, 51507, 96792, 45710, 74762, 52359, 33374, 82398, 45998, 61054]\n",
            "Same institution with 8931 : [32088, 87577, 55384, 31180, 33738, 73320, 65223, 82701, 95728, 27392, 64644, 16561, 16594, 95853, 47498, 17217, 12625, 14631, 92019, 61745, 51378, 80417, 11119, 21852, 31627, 59019, 12243, 75999, 29904, 36645, 65201, 49755, 47542, 74762]\n",
            "Same occupation with 8931 : [61377, 66464, 39505, 37574, 61888, 67267, 90961, 82543, 68193, 48435, 30411, 65223, 19516, 45688, 95853, 15389, 57695, 68263, 55683, 67719, 85416, 58651, 114, 14156, 90882, 4562, 33595, 34132, 34405, 92019, 51378, 69712, 89363, 63762, 19937, 75163, 70927, 42023, 38110, 6688, 28955, 76179, 65624, 61736, 14696, 70204, 49503, 10727, 51613, 78172, 64073, 29391, 80139, 7891, 76614, 20950, 71498, 30920, 69359, 76194, 50456, 96792, 45710, 52359, 33374, 45998]\n",
            "Same area with 8931 : [39535, 67267, 17337, 93823, 9179, 66233, 76194, 95364]\n",
            "Same hobby with 8931 : [76660, 58033, 73591, 28336, 86604, 17337, 13654, 17158, 13543, 85048, 95758, 93823, 38553, 52582, 38667, 60259, 78925, 40625, 23543, 33595, 90668, 75534, 31570, 76963, 8643, 73865, 47364, 92622, 19758, 75163, 1502, 71898, 4136, 71583, 72507, 56547, 3202, 92703, 91413, 61736, 14696, 82161, 77029, 93952, 71287, 71548, 17434, 25454, 36645, 19853, 14842, 91756, 51507, 82398, 45998, 61054]\n"
          ]
        }
      ]
    },
    {
      "cell_type": "code",
      "source": [
        "# Example usage:\n",
        "user_id = 61377\n",
        "output = recommend_friends_model[1](user_id)"
      ],
      "metadata": {
        "colab": {
          "base_uri": "https://localhost:8080/"
        },
        "id": "hyujl152vBuM",
        "outputId": "735e8ad6-3d06-41f5-dc33-a564b18d90f9"
      },
      "execution_count": 155,
      "outputs": [
        {
          "output_type": "stream",
          "name": "stdout",
          "text": [
            "Found user ID 61377 in the dataset.\n",
            "User preferences: {'instansi': 'Universitas Gunadarma', 'pekerjaan': 'Content writer', 'domisili': 'Kota Magelang', 'hobi': 'Programming'}\n",
            "Friends of 61377 : [10476, 55312, 66464, 39505, 240, 37574, 8931, 21673, 55384, 58335, 61888, 27369, 31774, 67267, 9957, 90961, 82543, 16101, 32621, 68193, 48435, 30411, 65223, 728, 76225, 97566, 45135, 3136, 34352, 80381, 19516, 35554, 57163, 74874, 45688, 95853, 15389, 91257, 47498, 64416, 57695, 68263, 64917, 55683, 67719, 98854, 85416, 15316, 32933, 58651, 114, 14156, 91340, 6758, 44718, 93143, 23226, 90882, 66304, 4562, 33595, 85456, 93924, 34132, 21002, 93699, 14631, 70433, 34405, 92019, 61745, 51378, 95175, 69712, 48709, 89363, 63762, 78670, 61567, 76323, 19937, 75163, 88364, 70927, 42023, 43361, 47576, 89127, 38110, 98773, 6688, 28955, 15264, 32282, 72507, 17350, 76179, 93754, 65624, 81057, 61736, 67055, 14696, 70204, 32097, 49503, 10727, 51613, 69854, 78172, 23348, 64073, 29391, 80139, 7891, 5542, 76614, 79886, 2094, 75274, 92358, 20950, 8647, 8230, 50505, 46682, 71498, 38050, 30920, 69359, 32313, 59835, 76194, 50456, 2288, 49168, 96792, 7784, 45710, 76658, 98419, 52359, 33374, 45998, 13567]\n",
            "Same institution with 61377 : [55312, 37574, 16101, 728, 76225, 68263, 98854, 32933, 85456, 70433, 34405, 69712, 48709, 78670, 47576, 15264, 72507, 17350, 70204, 32097, 5542, 2094, 75274, 8647, 50505, 46682, 30920, 50456, 7784, 76658, 13567]\n",
            "Same occupation with 61377 : [66464, 39505, 37574, 8931, 61888, 67267, 90961, 82543, 68193, 48435, 30411, 65223, 19516, 45688, 95853, 15389, 57695, 68263, 55683, 67719, 85416, 58651, 114, 14156, 90882, 4562, 33595, 34132, 34405, 92019, 51378, 69712, 89363, 63762, 19937, 75163, 70927, 42023, 38110, 6688, 28955, 76179, 65624, 61736, 14696, 70204, 49503, 10727, 51613, 78172, 64073, 29391, 80139, 7891, 76614, 20950, 71498, 30920, 69359, 76194, 50456, 96792, 45710, 52359, 33374, 45998]\n",
            "Same area with 61377 : [27369, 57163, 14631, 95175, 81057]\n",
            "Same hobby with 61377 : [10476, 240, 21673, 55384, 58335, 31774, 9957, 32621, 65223, 97566, 45135, 3136, 34352, 80381, 35554, 74874, 91257, 47498, 64416, 64917, 15316, 91340, 6758, 44718, 93143, 23226, 66304, 93924, 21002, 93699, 61745, 61567, 76323, 88364, 43361, 89127, 98773, 32282, 93754, 67055, 69854, 23348, 79886, 92358, 8230, 38050, 30920, 32313, 59835, 2288, 49168, 98419, 13567]\n"
          ]
        }
      ]
    },
    {
      "cell_type": "code",
      "source": [
        "dom1 = data[data['userid'] == 5492]['domisili'].values[0]\n",
        "# data['domisili'][data['domisili']== dom1].value_counts()\n",
        "data['userid'][data['domisili']== dom1]"
      ],
      "metadata": {
        "colab": {
          "base_uri": "https://localhost:8080/"
        },
        "id": "q6dygl2ovtTO",
        "outputId": "bf654824-5c91-48ab-b2cc-b7db16c25ec5"
      },
      "execution_count": 156,
      "outputs": [
        {
          "output_type": "execute_result",
          "data": {
            "text/plain": [
              "12      5492\n",
              "28     54602\n",
              "41     19970\n",
              "68     34714\n",
              "102    87333\n",
              "286    95853\n",
              "425    59882\n",
              "436    89744\n",
              "507    48709\n",
              "743    15754\n",
              "Name: userid, dtype: int64"
            ]
          },
          "metadata": {},
          "execution_count": 156
        }
      ]
    },
    {
      "cell_type": "markdown",
      "source": [
        "# Deploy using TFlite"
      ],
      "metadata": {
        "id": "rsevK12Lv8OE"
      }
    },
    {
      "cell_type": "code",
      "source": [
        "# Create a TensorFlow session and run the function to populate the variables\n",
        "with tf.compat.v1.Session(graph=recommend_friends_model[0]) as session:\n",
        "    session.run(tf.compat.v1.global_variables_initializer())\n",
        "    session.run(tf.compat.v1.local_variables_initializer())\n",
        "\n",
        "    # Convert the TensorFlow graph to a TFLite model\n",
        "    concrete_func = recommend_friends_model[1].get_concrete_function(recommend_friends_model[2])\n",
        "    converter = tflite.TFLiteConverter.from_concrete_functions([concrete_func])\n",
        "    tflite_model = converter.convert()\n",
        "\n",
        "# Save the TFLite model to a file\n",
        "with open('/content/drive/MyDrive/Capstone/saved model/recommendation_model.tflite', 'wb') as f:\n",
        "    f.write(tflite_model)"
      ],
      "metadata": {
        "colab": {
          "base_uri": "https://localhost:8080/"
        },
        "id": "tRTtMvqJi_qB",
        "outputId": "0e6d118c-c006-475b-c478-b64c34e25598"
      },
      "execution_count": 152,
      "outputs": [
        {
          "output_type": "stream",
          "name": "stderr",
          "text": [
            "WARNING:absl:Please consider providing the trackable_obj argument in the from_concrete_functions. Providing without the trackable_obj argument is deprecated and it will use the deprecated conversion path.\n"
          ]
        },
        {
          "output_type": "stream",
          "name": "stdout",
          "text": [
            "User ID Tensor(\"user:0\", shape=(), dtype=int32) does not exist in the dataset.\n"
          ]
        }
      ]
    }
  ],
  "metadata": {
    "colab": {
      "provenance": [],
      "toc_visible": true
    },
    "kernelspec": {
      "display_name": "Python 3",
      "name": "python3"
    }
  },
  "nbformat": 4,
  "nbformat_minor": 0
}